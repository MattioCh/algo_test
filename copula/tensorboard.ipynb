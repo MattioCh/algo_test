{
 "metadata": {
  "language_info": {
   "codemirror_mode": {
    "name": "ipython",
    "version": 3
   },
   "file_extension": ".py",
   "mimetype": "text/x-python",
   "name": "python",
   "nbconvert_exporter": "python",
   "pygments_lexer": "ipython3",
   "version": "3.6.12-final"
  },
  "orig_nbformat": 2,
  "kernelspec": {
   "name": "yahoo_finance",
   "display_name": "yahoo_finance",
   "language": "python"
  }
 },
 "nbformat": 4,
 "nbformat_minor": 2,
 "cells": [
  {
   "cell_type": "code",
   "execution_count": 2,
   "metadata": {},
   "outputs": [
    {
     "output_type": "stream",
     "name": "stderr",
     "text": [
      "WARNING:root:Limited tf.compat.v2.summary API due to missing TensorBoard installation.\n",
      "WARNING:root:Limited tf.compat.v2.summary API due to missing TensorBoard installation.\n",
      "WARNING:root:Limited tf.compat.v2.summary API due to missing TensorBoard installation.\n",
      "WARNING:root:Limited tf.summary API due to missing TensorBoard installation.\n",
      "The tensorboard module is not an IPython extension.\n"
     ]
    }
   ],
   "source": [
    "%load_ext tensorboard"
   ]
  },
  {
   "cell_type": "code",
   "execution_count": 1,
   "metadata": {},
   "outputs": [
    {
     "output_type": "stream",
     "name": "stdout",
     "text": [
      "/Users/matthewchuang/opt/anaconda3/envs/yahoo_finance/bin/tensorboard\n"
     ]
    }
   ],
   "source": []
  },
  {
   "cell_type": "code",
   "execution_count": 3,
   "metadata": {},
   "outputs": [
    {
     "output_type": "stream",
     "name": "stdout",
     "text": [
      "Requirement already satisfied: tensorboard in /Users/matthewchuang/opt/anaconda3/envs/yahoo_finance/lib/python3.6/site-packages (2.4.1)\n",
      "Requirement already satisfied: grpcio>=1.24.3 in /Users/matthewchuang/opt/anaconda3/envs/yahoo_finance/lib/python3.6/site-packages (from tensorboard) (1.32.0)\n",
      "Requirement already satisfied: wheel>=0.26 in /Users/matthewchuang/opt/anaconda3/envs/yahoo_finance/lib/python3.6/site-packages (from tensorboard) (0.36.2)\n",
      "Requirement already satisfied: google-auth<2,>=1.6.3 in /Users/matthewchuang/opt/anaconda3/envs/yahoo_finance/lib/python3.6/site-packages (from tensorboard) (1.24.0)\n",
      "Requirement already satisfied: absl-py>=0.4 in /Users/matthewchuang/opt/anaconda3/envs/yahoo_finance/lib/python3.6/site-packages (from tensorboard) (0.11.0)\n",
      "Requirement already satisfied: numpy>=1.12.0 in /Users/matthewchuang/opt/anaconda3/envs/yahoo_finance/lib/python3.6/site-packages (from tensorboard) (1.19.5)\n",
      "Requirement already satisfied: tensorboard-plugin-wit>=1.6.0 in /Users/matthewchuang/opt/anaconda3/envs/yahoo_finance/lib/python3.6/site-packages (from tensorboard) (1.7.0)\n",
      "Requirement already satisfied: requests<3,>=2.21.0 in /Users/matthewchuang/opt/anaconda3/envs/yahoo_finance/lib/python3.6/site-packages (from tensorboard) (2.25.1)\n",
      "Requirement already satisfied: werkzeug>=0.11.15 in /Users/matthewchuang/opt/anaconda3/envs/yahoo_finance/lib/python3.6/site-packages (from tensorboard) (1.0.1)\n",
      "Requirement already satisfied: markdown>=2.6.8 in /Users/matthewchuang/opt/anaconda3/envs/yahoo_finance/lib/python3.6/site-packages (from tensorboard) (3.3.3)\n",
      "Requirement already satisfied: six>=1.10.0 in /Users/matthewchuang/opt/anaconda3/envs/yahoo_finance/lib/python3.6/site-packages (from tensorboard) (1.15.0)\n",
      "Requirement already satisfied: setuptools>=41.0.0 in /Users/matthewchuang/opt/anaconda3/envs/yahoo_finance/lib/python3.6/site-packages (from tensorboard) (51.1.2.post20210112)\n",
      "Requirement already satisfied: google-auth-oauthlib<0.5,>=0.4.1 in /Users/matthewchuang/opt/anaconda3/envs/yahoo_finance/lib/python3.6/site-packages (from tensorboard) (0.4.2)\n",
      "Requirement already satisfied: protobuf>=3.6.0 in /Users/matthewchuang/opt/anaconda3/envs/yahoo_finance/lib/python3.6/site-packages (from tensorboard) (3.14.0)\n",
      "Requirement already satisfied: cachetools<5.0,>=2.0.0 in /Users/matthewchuang/opt/anaconda3/envs/yahoo_finance/lib/python3.6/site-packages (from google-auth<2,>=1.6.3->tensorboard) (4.2.0)\n",
      "Requirement already satisfied: pyasn1-modules>=0.2.1 in /Users/matthewchuang/opt/anaconda3/envs/yahoo_finance/lib/python3.6/site-packages (from google-auth<2,>=1.6.3->tensorboard) (0.2.8)\n",
      "Requirement already satisfied: rsa<5,>=3.1.4 in /Users/matthewchuang/opt/anaconda3/envs/yahoo_finance/lib/python3.6/site-packages (from google-auth<2,>=1.6.3->tensorboard) (4.7)\n",
      "Requirement already satisfied: requests-oauthlib>=0.7.0 in /Users/matthewchuang/opt/anaconda3/envs/yahoo_finance/lib/python3.6/site-packages (from google-auth-oauthlib<0.5,>=0.4.1->tensorboard) (1.3.0)\n",
      "Requirement already satisfied: importlib-metadata in /Users/matthewchuang/opt/anaconda3/envs/yahoo_finance/lib/python3.6/site-packages (from markdown>=2.6.8->tensorboard) (2.0.0)\n",
      "Requirement already satisfied: pyasn1<0.5.0,>=0.4.6 in /Users/matthewchuang/opt/anaconda3/envs/yahoo_finance/lib/python3.6/site-packages (from pyasn1-modules>=0.2.1->google-auth<2,>=1.6.3->tensorboard) (0.4.8)\n",
      "Requirement already satisfied: chardet<5,>=3.0.2 in /Users/matthewchuang/opt/anaconda3/envs/yahoo_finance/lib/python3.6/site-packages (from requests<3,>=2.21.0->tensorboard) (4.0.0)\n",
      "Requirement already satisfied: urllib3<1.27,>=1.21.1 in /Users/matthewchuang/opt/anaconda3/envs/yahoo_finance/lib/python3.6/site-packages (from requests<3,>=2.21.0->tensorboard) (1.26.2)\n",
      "Requirement already satisfied: certifi>=2017.4.17 in /Users/matthewchuang/opt/anaconda3/envs/yahoo_finance/lib/python3.6/site-packages (from requests<3,>=2.21.0->tensorboard) (2020.12.5)\n",
      "Requirement already satisfied: idna<3,>=2.5 in /Users/matthewchuang/opt/anaconda3/envs/yahoo_finance/lib/python3.6/site-packages (from requests<3,>=2.21.0->tensorboard) (2.10)\n",
      "Requirement already satisfied: oauthlib>=3.0.0 in /Users/matthewchuang/opt/anaconda3/envs/yahoo_finance/lib/python3.6/site-packages (from requests-oauthlib>=0.7.0->google-auth-oauthlib<0.5,>=0.4.1->tensorboard) (3.1.0)\n",
      "Requirement already satisfied: zipp>=0.5 in /Users/matthewchuang/opt/anaconda3/envs/yahoo_finance/lib/python3.6/site-packages (from importlib-metadata->markdown>=2.6.8->tensorboard) (3.4.0)\n"
     ]
    }
   ],
   "source": [
    "!pip uninstall tensorboard "
   ]
  },
  {
   "cell_type": "code",
   "execution_count": null,
   "metadata": {},
   "outputs": [],
   "source": []
  }
 ]
}