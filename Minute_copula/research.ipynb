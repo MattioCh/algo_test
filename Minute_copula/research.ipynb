{
 "cells": [
  {
   "cell_type": "code",
   "execution_count": 16,
   "metadata": {},
   "outputs": [],
   "source": [
    "import pandas as pd \n",
    "import matplotlib.pyplot as plt \n",
    "df=pd.read_pickle(\"test1.csv\")"
   ]
  },
  {
   "cell_type": "code",
   "execution_count": 17,
   "metadata": {},
   "outputs": [
    {
     "output_type": "execute_result",
     "data": {
      "text/plain": [
       "12474"
      ]
     },
     "metadata": {},
     "execution_count": 17
    }
   ],
   "source": [
    "len(df.orders.sum())"
   ]
  },
  {
   "cell_type": "code",
   "execution_count": 18,
   "metadata": {},
   "outputs": [
    {
     "output_type": "execute_result",
     "data": {
      "text/plain": [
       "Index(['algo_volatility', 'algorithm_period_return', 'alpha',\n",
       "       'benchmark_period_return', 'benchmark_volatility', 'beta',\n",
       "       'capital_used', 'ending_cash', 'ending_exposure', 'ending_value',\n",
       "       'excess_return', 'gross_leverage', 'long_exposure', 'long_value',\n",
       "       'longs_count', 'max_drawdown', 'max_leverage', 'net_leverage', 'orders',\n",
       "       'period_close', 'period_label', 'period_open', 'pnl', 'portfolio_value',\n",
       "       'positions', 'returns', 'sharpe', 'short_exposure', 'short_value',\n",
       "       'shorts_count', 'sortino', 'starting_cash', 'starting_exposure',\n",
       "       'starting_value', 'trading_days', 'transactions',\n",
       "       'treasury_period_return'],\n",
       "      dtype='object')"
      ]
     },
     "metadata": {},
     "execution_count": 18
    }
   ],
   "source": [
    "df.columns"
   ]
  },
  {
   "cell_type": "code",
   "execution_count": null,
   "metadata": {},
   "outputs": [],
   "source": []
  }
 ],
 "metadata": {
  "kernelspec": {
   "name": "python3",
   "display_name": "Python 3.6.12 64-bit ('env_zipline': conda)",
   "metadata": {
    "interpreter": {
     "hash": "78b4808e9e99daf4f726ec588121dd88c936725b3f7081e168c4131b959997d5"
    }
   }
  },
  "language_info": {
   "codemirror_mode": {
    "name": "ipython",
    "version": 3
   },
   "file_extension": ".py",
   "mimetype": "text/x-python",
   "name": "python",
   "nbconvert_exporter": "python",
   "pygments_lexer": "ipython3",
   "version": "3.6.12-final"
  }
 },
 "nbformat": 4,
 "nbformat_minor": 2
}