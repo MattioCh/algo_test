{
 "metadata": {
  "language_info": {
   "codemirror_mode": {
    "name": "ipython",
    "version": 3
   },
   "file_extension": ".py",
   "mimetype": "text/x-python",
   "name": "python",
   "nbconvert_exporter": "python",
   "pygments_lexer": "ipython3",
   "version": "3.8.5-final"
  },
  "orig_nbformat": 2,
  "kernelspec": {
   "name": "yfinance20210105",
   "display_name": "yfinance20210105",
   "language": "python"
  }
 },
 "nbformat": 4,
 "nbformat_minor": 2,
 "cells": [
  {
   "cell_type": "code",
   "execution_count": 26,
   "metadata": {
    "tags": []
   },
   "outputs": [],
   "source": [
    "## Create another Conda Env just for yfinance because the Pandas version is not compatible with zipline\n",
    "## pass the tickers that you want into the \"tickers\" as a list\n",
    "## You can use the Nasdaq screener to select the Ticker, most of the ticker are availabel on Interactive Broker\n",
    "## https://www.nasdaq.com/market-activity/stocks/screener\n",
    "## download the csv\n",
    "\n",
    "## default period is 243mo\n",
    "## default directory is current directory with /data/daily\n",
    "\n",
    "def ticker_data_downloader(list_of_tickers , period=\"243mo\"):\n",
    "    import yfinance as yf\n",
    "    import pandas as pd\n",
    "    from datetime import datetime\n",
    "\n",
    "    now = datetime.now()\n",
    "    dt_string = now.strftime(\"%Y%m%d\")\n",
    "    \n",
    "\n",
    "    import os\n",
    "    if not os.path.exists(dt_string + \"/daily\"):\n",
    "        os.makedirs(dt_string + \"/daily\")\n",
    "        pass\n",
    "\n",
    "\n",
    "    \n",
    "\n",
    "    def DOHL_to_dohl_mapper(dataframe):\n",
    "        map_column = {\"Date\":\"date\",\"High\":\"high\",\"Open\":\"open\",\"Low\":\"low\",\"Close\":\"close\",\"Volume\":\"volume\",\"Adj Close\":\"adj close\"}\n",
    "        df_new = dataframe.rename(columns=map_column)\n",
    "        df_new.index.name=\"date\"\n",
    "        return df_new\n",
    "\n",
    "    for ticker in list_of_tickers :\n",
    "        df = DOHL_to_dohl_mapper(yf.download(ticker,period = period)).round(decimals=4).drop(columns=[\"adj close\"]).to_csv(dt_string + \"/daily/\" + ticker + \".csv\")\n",
    "\n",
    "\n",
    "\n"
   ]
  },
  {
   "cell_type": "code",
   "execution_count": 27,
   "metadata": {},
   "outputs": [],
   "source": [
    "#for your test\n",
    "tickers = [\"AAPL\"]"
   ]
  },
  {
   "cell_type": "code",
   "execution_count": 34,
   "metadata": {},
   "outputs": [],
   "source": [
    "import pandas as pd\n",
    "path_to_nasdaq_screener_csv = \"test.csv\"\n",
    "tickers = pd.read_csv(path_to_nasdaq_screener_csv).Symbol.tolist()\n",
    "\n",
    "#This can create the list of ticker you want to download\n",
    "#select your tickers\n",
    "# https://www.nasdaq.com/market-activity/stocks/screener"
   ]
  },
  {
   "cell_type": "code",
   "execution_count": 28,
   "metadata": {},
   "outputs": [
    {
     "output_type": "stream",
     "name": "stdout",
     "text": [
      "[*********************100%***********************]  1 of 1 completed\n"
     ]
    },
    {
     "output_type": "execute_result",
     "data": {
      "text/plain": [
       "'----main function----'"
      ]
     },
     "metadata": {},
     "execution_count": 28
    }
   ],
   "source": [
    "'''----main function----'''\n",
    "\n",
    "ticker_data_downloader(tickers)\n",
    "\n",
    "'''----main function----'''"
   ]
  },
  {
   "cell_type": "code",
   "execution_count": null,
   "metadata": {},
   "outputs": [],
   "source": []
  }
 ]
}